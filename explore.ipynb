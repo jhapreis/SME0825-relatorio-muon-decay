{
 "cells": [
  {
   "cell_type": "code",
   "execution_count": null,
   "metadata": {},
   "outputs": [],
   "source": [
    "import numpy as np\n",
    "import pandas as pd\n",
    "import matplotlib.pyplot as plt\n",
    "from dataclasses import dataclass\n",
    "from typing_extensions import List\n",
    "from scipy.signal import find_peaks\n",
    "\n",
    "@dataclass\n",
    "class PeakData:\n",
    "\n",
    "    index: str\n",
    "    x: np.ndarray\n",
    "    y: np.ndarray\n",
    "\n",
    "    @property\n",
    "    def time_diff(self) -> List[int]:\n",
    "        deltas = []\n",
    "        for i in range(len(self.x)-1):\n",
    "            deltas.append(self.x[i+1] - self.x[i])\n",
    "        return np.array(deltas, dtype=float)\n",
    "\n",
    "@dataclass\n",
    "class Peaks:\n",
    "\n",
    "    good: List[PeakData]\n",
    "    less: List[PeakData]\n",
    "    more: List[PeakData]\n",
    "\n",
    "@dataclass\n",
    "class MuonDecayEvents:\n",
    "\n",
    "    df: pd.DataFrame\n",
    "\n",
    "    @property\n",
    "    def scale(self) -> float:\n",
    "        \"\"\"mu-sec/div\"\"\"\n",
    "        return 1E-6\n",
    "\n",
    "    @property\n",
    "    def number_divisions(self) -> int:\n",
    "        return 10\n",
    "\n",
    "    @property\n",
    "    def number_adc_channels(self) -> int:\n",
    "        return len(self.df.columns)\n",
    "\n",
    "    @property\n",
    "    def time_data(self) -> np.ndarray:\n",
    "        data = np.array([i for i in range(self.number_adc_channels)])\n",
    "        return self.convert_time_to_units(time_data=data)\n",
    "\n",
    "    def convert_time_to_units(self, time_data: np.ndarray) -> np.ndarray:\n",
    "        k = self.number_divisions / self.number_adc_channels\n",
    "        return k * time_data\n",
    "\n",
    "    def find_peaks(self, height: float = -10., distance: int = 10, invert_data: bool = False) -> Peaks:\n",
    "        k = -1 if invert_data else 1\n",
    "        good = []\n",
    "        less = []\n",
    "        more = []\n",
    "        for index in self.df.index:\n",
    "            x_peaks, y_peaks = find_peaks(x=k*self.df.loc[index], height=height, distance=distance)\n",
    "            peaks = PeakData(\n",
    "                index = index,\n",
    "                x     = self.convert_time_to_units(x_peaks), \n",
    "                y     = k*y_peaks['peak_heights'],\n",
    "            )\n",
    "            if len(x_peaks) == 2:\n",
    "                good.append(peaks)\n",
    "            elif len(x_peaks) < 2:\n",
    "                less.append(peaks)\n",
    "            elif len(x_peaks) > 2:\n",
    "                more.append(peaks)\n",
    "        return Peaks(good=good, less=less, more=more)\n",
    "\n",
    "    def plot_event(self, peaks_data: PeakData) -> None:\n",
    "        plt.xlabel(xlabel=r\"Tempo ($\\mu$s)\")\n",
    "        plt.ylabel(ylabel=\"Tensão (chADC)\")\n",
    "        plt.plot(\n",
    "            self.time_data,\n",
    "            self.df.loc[peaks_data.index],\n",
    "            color=\"#696969\",\n",
    "        )\n",
    "        plt.scatter(\n",
    "            x      = peaks_data.x, \n",
    "            y      = peaks_data.y,\n",
    "            c      = \"red\",\n",
    "            marker = \"x\",\n",
    "        )\n",
    "        plt.savefig(\"ex_waveform.png\", dpi=500)"
   ]
  },
  {
   "cell_type": "code",
   "execution_count": null,
   "metadata": {},
   "outputs": [],
   "source": [
    "df = pd.read_csv(filepath_or_buffer=\"5555_eventos_T.csv\", header=0, index_col=0, sep=\",\")\n",
    "\n",
    "df"
   ]
  },
  {
   "cell_type": "code",
   "execution_count": null,
   "metadata": {},
   "outputs": [],
   "source": [
    "decay = MuonDecayEvents(df=df)"
   ]
  },
  {
   "cell_type": "code",
   "execution_count": null,
   "metadata": {},
   "outputs": [],
   "source": [
    "peaks = decay.find_peaks(height=-10., distance=10, invert_data=True)"
   ]
  },
  {
   "cell_type": "code",
   "execution_count": null,
   "metadata": {},
   "outputs": [],
   "source": [
    "peaks.good[100].time_diff"
   ]
  },
  {
   "cell_type": "code",
   "execution_count": null,
   "metadata": {},
   "outputs": [],
   "source": [
    "decay.plot_event(peaks_data=peaks.good[400])"
   ]
  },
  {
   "cell_type": "code",
   "execution_count": null,
   "metadata": {},
   "outputs": [],
   "source": [
    "time_diff = np.array([\n",
    "    peaks.good[i].time_diff[0] \\\n",
    "    for i in range(len(peaks.good))\n",
    "])\n",
    "\n",
    "time_diff"
   ]
  },
  {
   "cell_type": "code",
   "execution_count": null,
   "metadata": {},
   "outputs": [],
   "source": [
    "df_time_diff = pd.DataFrame(\n",
    "    data    = time_diff, \n",
    "    columns = [\"time_micro_sec\"],\n",
    "    index   = df.index,\n",
    ")\n",
    "\n",
    "df_time_diff.to_csv(path_or_buf=\"time_diff.csv\", sep=\",\", index=False)"
   ]
  },
  {
   "cell_type": "code",
   "execution_count": null,
   "metadata": {},
   "outputs": [],
   "source": [
    "from scipy.optimize import curve_fit\n",
    "\n",
    "def exp_function(x: float, a: float, tau: float, c: float) -> float:\n",
    "    return a * np.exp(-x/tau) + c"
   ]
  },
  {
   "cell_type": "code",
   "execution_count": null,
   "metadata": {},
   "outputs": [],
   "source": [
    "hist, bin_edges = np.histogram(a=time_diff, bins=\"fd\")\n",
    "bin_centers = np.array([\n",
    "    (bin_edges[i] + bin_edges[i+1])/2 for i in range(len(bin_edges)-1) \n",
    "])\n",
    "popt, pcov = curve_fit(f=exp_function, xdata=bin_centers, ydata=hist)"
   ]
  },
  {
   "cell_type": "code",
   "execution_count": null,
   "metadata": {},
   "outputs": [],
   "source": [
    "plt.hist(x=time_diff, density=True, bins=\"fd\", color=\"black\", histtype='step')\n",
    "plt.xlabel(r\"Diferença de tempo ($\\mu$s)\")\n",
    "plt.ylabel('Probability')\n",
    "plt.show()"
   ]
  },
  {
   "cell_type": "code",
   "execution_count": null,
   "metadata": {},
   "outputs": [],
   "source": []
  }
 ],
 "metadata": {
  "kernelspec": {
   "display_name": "Python 3",
   "language": "python",
   "name": "python3"
  },
  "language_info": {
   "codemirror_mode": {
    "name": "ipython",
    "version": 3
   },
   "file_extension": ".py",
   "mimetype": "text/x-python",
   "name": "python",
   "nbconvert_exporter": "python",
   "pygments_lexer": "ipython3",
   "version": "3.11.4"
  }
 },
 "nbformat": 4,
 "nbformat_minor": 2
}
